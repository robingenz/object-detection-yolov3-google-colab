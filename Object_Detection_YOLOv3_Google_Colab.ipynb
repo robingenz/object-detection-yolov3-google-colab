{
  "nbformat": 4,
  "nbformat_minor": 0,
  "metadata": {
    "colab": {
      "name": "Object-Detection-YOLOv3-Google-Colab.ipynb",
      "provenance": [],
      "collapsed_sections": []
    },
    "kernelspec": {
      "name": "python3",
      "display_name": "Python 3"
    }
  },
  "cells": [
    {
      "cell_type": "markdown",
      "metadata": {
        "id": "Rea-USZ33yTv",
        "colab_type": "text"
      },
      "source": [
        "# 1. Setup"
      ]
    },
    {
      "cell_type": "code",
      "metadata": {
        "id": "bytgvd6ee-sH",
        "colab_type": "code",
        "colab": {}
      },
      "source": [
        "# Install dependencies\n",
        "!apt-get update\n",
        "!apt-get upgrade\n",
        "\n",
        "!apt-get install -y build-essential\n",
        "!apt-get install -y cmake git libgtk2.0-dev pkg-config libavcodec-dev libavformat-dev libswscale-dev\n",
        "!apt-get install -y libavcodec-dev libavformat-dev libswscale-d\n",
        "!apt-get install -y libopencv-dev\n",
        "\n",
        "!apt-get install -y g++-5\n",
        "!apt-get install -y gcc-5"
      ],
      "execution_count": 0,
      "outputs": []
    },
    {
      "cell_type": "code",
      "metadata": {
        "id": "WtroOAuM325B",
        "colab_type": "code",
        "colab": {}
      },
      "source": [
        "!/usr/local/cuda/bin/nvcc --version\n",
        "# Check if GPU is selected as hardware accelerator\n",
        "import tensorflow as tf\n",
        "device_name = tf.test.gpu_device_name()\n",
        "if not '/device:GPU:0' in device_name:\n",
        "    print('\\nERROR: GPU is not selected as hardware accelerator!')\n",
        "else:\n",
        "    print(device_name)"
      ],
      "execution_count": 0,
      "outputs": []
    },
    {
      "cell_type": "code",
      "metadata": {
        "id": "5DSawfB-4SOP",
        "colab_type": "code",
        "colab": {}
      },
      "source": [
        "# Clone and compile darknet\n",
        "!git clone https://github.com/AlexeyAB/darknet\n",
        "%cd darknet\n",
        "\n",
        "!ls\n",
        "!sed -i 's/OPENCV=0/OPENCV=1/g' Makefile\n",
        "!sed -i 's/GPU=0/GPU=1/g' Makefile\n",
        "!make"
      ],
      "execution_count": 0,
      "outputs": []
    },
    {
      "cell_type": "code",
      "metadata": {
        "id": "OBYxjh7X-dne",
        "colab_type": "code",
        "colab": {}
      },
      "source": [
        "# Mount Google Drive\n",
        "from google.colab import drive\n",
        "drive.mount('/content/gdrive')\n",
        "\n",
        "!ls \"/content/gdrive/My Drive/\""
      ],
      "execution_count": 0,
      "outputs": []
    },
    {
      "cell_type": "code",
      "metadata": {
        "id": "M3IFP_OM-fma",
        "colab_type": "code",
        "colab": {}
      },
      "source": [
        "# Create a symlink\n",
        "!ln -s \"/content/gdrive/My Drive/object-detection/\" \"/content/object-detection\""
      ],
      "execution_count": 0,
      "outputs": []
    },
    {
      "cell_type": "markdown",
      "metadata": {
        "id": "Exl8GaVg4ar8",
        "colab_type": "text"
      },
      "source": [
        "# 2. Train"
      ]
    },
    {
      "cell_type": "code",
      "metadata": {
        "id": "3rcUWtC24fQP",
        "colab_type": "code",
        "colab": {}
      },
      "source": [
        "# Start a new training\n",
        "!./darknet detector train /content/object-detection/trainer.data /content/object-detection/yolov3-tiny.cfg /content/object-detection/darknet53.conv.74 -dont_show"
      ],
      "execution_count": 0,
      "outputs": []
    },
    {
      "cell_type": "markdown",
      "metadata": {
        "id": "ny4BBfl4-uB7",
        "colab_type": "text"
      },
      "source": [
        "OR"
      ]
    },
    {
      "cell_type": "code",
      "metadata": {
        "id": "8DiPmDET-qM2",
        "colab_type": "code",
        "colab": {}
      },
      "source": [
        "# Continue training\n",
        "!./darknet detector train /content/object-detection/trainer.data /content/object-detection/yolov3-tiny.cfg backup/yolov3-tiny_last.weights -dont_show"
      ],
      "execution_count": 0,
      "outputs": []
    },
    {
      "cell_type": "markdown",
      "metadata": {
        "id": "-rQg1rKF4cRg",
        "colab_type": "text"
      },
      "source": [
        "# 3. Test"
      ]
    },
    {
      "cell_type": "code",
      "metadata": {
        "id": "KOrK9S6W4fzf",
        "colab_type": "code",
        "colab": {}
      },
      "source": [
        "# Run the detector\n",
        "!./darknet detector test /content/object-detection/trainer.data /content/object-detection/yolov3-tiny.cfg /content/object-detection/backup/yolov3-tiny_last.weights /content/object-detection/data/test.jpg -dont_show "
      ],
      "execution_count": 0,
      "outputs": []
    },
    {
      "cell_type": "code",
      "metadata": {
        "id": "6H2dLWTL-4YN",
        "colab_type": "code",
        "colab": {}
      },
      "source": [
        "# Show the generated image\n",
        "def detect(path):\n",
        "  import cv2\n",
        "  import matplotlib.pyplot as plt\n",
        "  %matplotlib inline\n",
        "\n",
        "  image = cv2.imread(path)\n",
        "  height, width = image.shape[:2]\n",
        "  resized_image = cv2.resize(image,(3*width, 3*height), interpolation = cv2.INTER_CUBIC)\n",
        "\n",
        "  fig = plt.gcf()\n",
        "  fig.set_size_inches(18, 10)\n",
        "  plt.axis(\"off\")\n",
        "  plt.imshow(cv2.cvtColor(resized_image, cv2.COLOR_BGR2RGB))\n",
        "  plt.show()\n",
        "\n",
        "detect('predictions.jpg')"
      ],
      "execution_count": 0,
      "outputs": []
    }
  ]
}